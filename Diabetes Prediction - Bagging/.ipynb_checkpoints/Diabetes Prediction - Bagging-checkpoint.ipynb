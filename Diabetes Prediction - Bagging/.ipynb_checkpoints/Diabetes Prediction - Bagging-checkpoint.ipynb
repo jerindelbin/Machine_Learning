{
 "cells": [
  {
   "cell_type": "markdown",
   "id": "97027e77-b349-4570-9a3f-90ada86094e4",
   "metadata": {},
   "source": [
    "**ENSEMBLE LEARNING - BOOTSTRAP AGGREGATION (BAGGING)**\n",
    "\n",
    "**Used to improve the stability and accuracy of machine learning algorithms by reducing variance**"
   ]
  },
  {
   "cell_type": "markdown",
   "id": "8019684b-9060-459b-a64d-bbb5018bcd7f",
   "metadata": {},
   "source": [
    "**WORKING:**\n",
    "\n",
    "**1. Bootstrap Sampling: Bagging involves creating multiple subsets of the original dataset through bootstrap sampling. This method randomly selects instances from the dataset with replacement, resulting in new subsets that introduces new subsets or repeats older ones.**\n",
    "\n",
    "**2. Model Training: Each subset is used to train a separate instance of the base learning algorithm. Because each subset is slightly different due to the randomness of bootstrapping, each model learns unique patterns from the data.**\n",
    "\n",
    "**3. Prediction Aggregation: After training, predictions are made using each model on the original dataset. For regression tasks, predictions are typically averaged, while for classification tasks, a majority voting approach is used.**\n",
    "\n",
    "\n",
    "\n",
    "**It is particularly effective when the base learning algorithm exhibits high variance, meaning it is sensitive to small changes in the training data.**\n",
    "\n",
    "**Bagging methods are typically used on weak learners that exhibit high variance and low bias.**"
   ]
  },
  {
   "cell_type": "code",
   "execution_count": 2,
   "id": "bd615005-accd-4871-a659-add7e8d44510",
   "metadata": {},
   "outputs": [],
   "source": [
    "import pandas as pd\n",
    "import numpy as np\n",
    "from sklearn.model_selection import train_test_split\n",
    "from sklearn.preprocessing import StandardScaler"
   ]
  },
  {
   "cell_type": "code",
   "execution_count": 6,
   "id": "44cea2b4-560b-4a21-b87b-6ac322f7e05c",
   "metadata": {},
   "outputs": [
    {
     "data": {
      "text/html": [
       "<div>\n",
       "<style scoped>\n",
       "    .dataframe tbody tr th:only-of-type {\n",
       "        vertical-align: middle;\n",
       "    }\n",
       "\n",
       "    .dataframe tbody tr th {\n",
       "        vertical-align: top;\n",
       "    }\n",
       "\n",
       "    .dataframe thead th {\n",
       "        text-align: right;\n",
       "    }\n",
       "</style>\n",
       "<table border=\"1\" class=\"dataframe\">\n",
       "  <thead>\n",
       "    <tr style=\"text-align: right;\">\n",
       "      <th></th>\n",
       "      <th>Pregnancies</th>\n",
       "      <th>Glucose</th>\n",
       "      <th>BloodPressure</th>\n",
       "      <th>SkinThickness</th>\n",
       "      <th>Insulin</th>\n",
       "      <th>BMI</th>\n",
       "      <th>DiabetesPedigreeFunction</th>\n",
       "      <th>Age</th>\n",
       "      <th>Outcome</th>\n",
       "    </tr>\n",
       "  </thead>\n",
       "  <tbody>\n",
       "    <tr>\n",
       "      <th>0</th>\n",
       "      <td>6</td>\n",
       "      <td>148</td>\n",
       "      <td>72</td>\n",
       "      <td>35</td>\n",
       "      <td>0</td>\n",
       "      <td>33.6</td>\n",
       "      <td>0.627</td>\n",
       "      <td>50</td>\n",
       "      <td>1</td>\n",
       "    </tr>\n",
       "    <tr>\n",
       "      <th>1</th>\n",
       "      <td>1</td>\n",
       "      <td>85</td>\n",
       "      <td>66</td>\n",
       "      <td>29</td>\n",
       "      <td>0</td>\n",
       "      <td>26.6</td>\n",
       "      <td>0.351</td>\n",
       "      <td>31</td>\n",
       "      <td>0</td>\n",
       "    </tr>\n",
       "    <tr>\n",
       "      <th>2</th>\n",
       "      <td>8</td>\n",
       "      <td>183</td>\n",
       "      <td>64</td>\n",
       "      <td>0</td>\n",
       "      <td>0</td>\n",
       "      <td>23.3</td>\n",
       "      <td>0.672</td>\n",
       "      <td>32</td>\n",
       "      <td>1</td>\n",
       "    </tr>\n",
       "    <tr>\n",
       "      <th>3</th>\n",
       "      <td>1</td>\n",
       "      <td>89</td>\n",
       "      <td>66</td>\n",
       "      <td>23</td>\n",
       "      <td>94</td>\n",
       "      <td>28.1</td>\n",
       "      <td>0.167</td>\n",
       "      <td>21</td>\n",
       "      <td>0</td>\n",
       "    </tr>\n",
       "    <tr>\n",
       "      <th>4</th>\n",
       "      <td>0</td>\n",
       "      <td>137</td>\n",
       "      <td>40</td>\n",
       "      <td>35</td>\n",
       "      <td>168</td>\n",
       "      <td>43.1</td>\n",
       "      <td>2.288</td>\n",
       "      <td>33</td>\n",
       "      <td>1</td>\n",
       "    </tr>\n",
       "  </tbody>\n",
       "</table>\n",
       "</div>"
      ],
      "text/plain": [
       "   Pregnancies  Glucose  BloodPressure  SkinThickness  Insulin   BMI  \\\n",
       "0            6      148             72             35        0  33.6   \n",
       "1            1       85             66             29        0  26.6   \n",
       "2            8      183             64              0        0  23.3   \n",
       "3            1       89             66             23       94  28.1   \n",
       "4            0      137             40             35      168  43.1   \n",
       "\n",
       "   DiabetesPedigreeFunction  Age  Outcome  \n",
       "0                     0.627   50        1  \n",
       "1                     0.351   31        0  \n",
       "2                     0.672   32        1  \n",
       "3                     0.167   21        0  \n",
       "4                     2.288   33        1  "
      ]
     },
     "execution_count": 6,
     "metadata": {},
     "output_type": "execute_result"
    }
   ],
   "source": [
    "patients = pd.read_csv('D:/Code/Python Projects/ML Projects/Diabetes Prediction KNN/diabetes.csv')\n",
    "patients.head()"
   ]
  },
  {
   "cell_type": "code",
   "execution_count": 7,
   "id": "099bdb06-5d49-4f41-bc2f-2691c90d9331",
   "metadata": {},
   "outputs": [
    {
     "data": {
      "text/plain": [
       "Pregnancies                 0\n",
       "Glucose                     0\n",
       "BloodPressure               0\n",
       "SkinThickness               0\n",
       "Insulin                     0\n",
       "BMI                         0\n",
       "DiabetesPedigreeFunction    0\n",
       "Age                         0\n",
       "Outcome                     0\n",
       "dtype: int64"
      ]
     },
     "execution_count": 7,
     "metadata": {},
     "output_type": "execute_result"
    }
   ],
   "source": [
    "patients.isnull().sum()"
   ]
  },
  {
   "cell_type": "code",
   "execution_count": 21,
   "id": "c8fb5c42-64ee-44ca-8fbe-047392eeeeba",
   "metadata": {},
   "outputs": [
    {
     "data": {
      "text/plain": [
       "Outcome\n",
       "0    500\n",
       "1    268\n",
       "Name: count, dtype: int64"
      ]
     },
     "execution_count": 21,
     "metadata": {},
     "output_type": "execute_result"
    }
   ],
   "source": [
    "patients.Outcome.value_counts()"
   ]
  },
  {
   "cell_type": "code",
   "execution_count": 22,
   "id": "ebc38cb1-9c71-4feb-bb6d-fa2edd57d1c1",
   "metadata": {},
   "outputs": [],
   "source": [
    "non_zero = ['Glucose', 'BloodPressure', 'SkinThickness', 'BMI', 'Insulin']"
   ]
  },
  {
   "cell_type": "code",
   "execution_count": 23,
   "id": "fe64966e-3789-44c6-a72c-0547458093f7",
   "metadata": {},
   "outputs": [],
   "source": [
    "for i in non_zero:\n",
    "    patients[i]=patients[i].replace(0,np.NaN)\n",
    "    mean=int(patients[i].mean(skipna=True))\n",
    "    patients[i]=patients[i].replace(np.NaN,mean)"
   ]
  },
  {
   "cell_type": "code",
   "execution_count": 24,
   "id": "27309512-2899-4418-8010-84ce831752dd",
   "metadata": {},
   "outputs": [],
   "source": [
    "X= patients.iloc[:,:-1]\n",
    "y= patients.iloc[:,-1]\n",
    "X_train, X_test, y_train, y_test = train_test_split(X, y, test_size=0.2, random_state=0)"
   ]
  },
  {
   "cell_type": "code",
   "execution_count": 18,
   "id": "d17a4e78-0bce-477b-af69-fbff76458d2b",
   "metadata": {},
   "outputs": [
    {
     "name": "stdout",
     "output_type": "stream",
     "text": [
      "614\n",
      "614\n",
      "154\n",
      "154\n"
     ]
    }
   ],
   "source": [
    "print(len(X_train))\n",
    "print(len(y_train))\n",
    "print(len(X_test))\n",
    "print(len(y_test))"
   ]
  },
  {
   "cell_type": "code",
   "execution_count": 19,
   "id": "cf1570f9-fb92-453e-820a-97bb7eb20e8a",
   "metadata": {},
   "outputs": [],
   "source": [
    "scaler = StandardScaler()\n",
    "X_train = scaler.fit_transform(X_train)\n",
    "X_test = scaler.transform(X_test)"
   ]
  },
  {
   "cell_type": "code",
   "execution_count": 20,
   "id": "53a5097e-4269-49dc-9cf1-b64777b0e9ce",
   "metadata": {},
   "outputs": [
    {
     "data": {
      "text/plain": [
       "(614, 8)"
      ]
     },
     "execution_count": 20,
     "metadata": {},
     "output_type": "execute_result"
    }
   ],
   "source": [
    "X_train.shape"
   ]
  },
  {
   "cell_type": "markdown",
   "id": "06156098-1d72-4d72-af1c-b1bca1b67c22",
   "metadata": {},
   "source": [
    "**IMPLEMENT DECISION TREE CLASSIFIER SO THAT WE CAN COMPARE**"
   ]
  },
  {
   "cell_type": "markdown",
   "id": "f12df4d0-acbd-45f3-8b78-ef851f9e3341",
   "metadata": {},
   "source": [
    "**Calculating score using Cross-Validation Method**"
   ]
  },
  {
   "cell_type": "code",
   "execution_count": 53,
   "id": "2f0311ee-bd36-47e3-afb3-4edccc8c79c0",
   "metadata": {},
   "outputs": [
    {
     "data": {
      "text/plain": [
       "array([0.66666667, 0.62601626, 0.68292683, 0.66666667, 0.68852459])"
      ]
     },
     "execution_count": 53,
     "metadata": {},
     "output_type": "execute_result"
    }
   ],
   "source": [
    "from sklearn.model_selection import cross_val_score\n",
    "from sklearn.tree import DecisionTreeClassifier\n",
    "\n",
    "scores1 = cross_val_score(DecisionTreeClassifier(), X_train, y_train, cv=5)\n",
    "scores1"
   ]
  },
  {
   "cell_type": "code",
   "execution_count": 55,
   "id": "4b425552-2aeb-46c7-878c-574b8703d01c",
   "metadata": {},
   "outputs": [
    {
     "data": {
      "text/plain": [
       "0.6661602025856324"
      ]
     },
     "execution_count": 55,
     "metadata": {},
     "output_type": "execute_result"
    }
   ],
   "source": [
    "scores1.mean()"
   ]
  },
  {
   "cell_type": "markdown",
   "id": "decc6d55-d83a-4971-bf97-07b1f5d9f1a8",
   "metadata": {},
   "source": [
    "**Fit the BaggingClassifier**"
   ]
  },
  {
   "cell_type": "code",
   "execution_count": 56,
   "id": "aea59a86-7b12-492e-99e9-0aee0b0c4c2c",
   "metadata": {},
   "outputs": [
    {
     "data": {
      "text/plain": [
       "0.739413680781759"
      ]
     },
     "execution_count": 56,
     "metadata": {},
     "output_type": "execute_result"
    }
   ],
   "source": [
    "from sklearn.ensemble import BaggingClassifier\n",
    "from sklearn.tree import DecisionTreeClassifier\n",
    "\n",
    "bag_model = BaggingClassifier(n_estimators=100, max_samples=0.8, oob_score=True, random_state=0)\n",
    "bag_model.fit(X_train, y_train)\n",
    "bag_model.oob_score_"
   ]
  },
  {
   "cell_type": "code",
   "execution_count": 57,
   "id": "400279fc-fedf-4c4c-8969-2239f04c9aa0",
   "metadata": {},
   "outputs": [
    {
     "data": {
      "text/plain": [
       "0.8181818181818182"
      ]
     },
     "execution_count": 57,
     "metadata": {},
     "output_type": "execute_result"
    }
   ],
   "source": [
    "x = bag_model.score(X_test, y_test)\n",
    "x"
   ]
  },
  {
   "cell_type": "code",
   "execution_count": 58,
   "id": "78987a69-9475-4b09-bdeb-124f49a1182b",
   "metadata": {},
   "outputs": [
    {
     "data": {
      "text/plain": [
       "array([0.72727273, 0.74675325, 0.75324675, 0.83006536, 0.73202614])"
      ]
     },
     "execution_count": 58,
     "metadata": {},
     "output_type": "execute_result"
    }
   ],
   "source": [
    "bag_model = BaggingClassifier(n_estimators=100, max_samples=0.8, oob_score=True, random_state=0)\n",
    "scores2 = cross_val_score(bag_model, X, y, cv=5)\n",
    "scores2"
   ]
  },
  {
   "cell_type": "code",
   "execution_count": 59,
   "id": "4cddbd0b-a3d1-4a9d-b49d-985029d8adec",
   "metadata": {},
   "outputs": [
    {
     "data": {
      "text/plain": [
       "0.7578728461081403"
      ]
     },
     "execution_count": 59,
     "metadata": {},
     "output_type": "execute_result"
    }
   ],
   "source": [
    "scores2.mean()"
   ]
  },
  {
   "cell_type": "code",
   "execution_count": null,
   "id": "47cdce9d-e853-4c80-bc6a-d474dda2c0ed",
   "metadata": {},
   "outputs": [],
   "source": []
  }
 ],
 "metadata": {
  "kernelspec": {
   "display_name": "Python 3 (ipykernel)",
   "language": "python",
   "name": "python3"
  },
  "language_info": {
   "codemirror_mode": {
    "name": "ipython",
    "version": 3
   },
   "file_extension": ".py",
   "mimetype": "text/x-python",
   "name": "python",
   "nbconvert_exporter": "python",
   "pygments_lexer": "ipython3",
   "version": "3.12.2"
  }
 },
 "nbformat": 4,
 "nbformat_minor": 5
}
