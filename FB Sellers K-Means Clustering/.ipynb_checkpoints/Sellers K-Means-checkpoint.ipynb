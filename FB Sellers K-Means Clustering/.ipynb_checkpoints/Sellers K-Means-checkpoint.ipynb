{
 "cells": [
  {
   "cell_type": "markdown",
   "id": "0ac28746-c5ae-4e1e-a9dd-f6c6c9f914e6",
   "metadata": {},
   "source": [
    "**K-MEANS CLUSTERING**\n",
    "** **"
   ]
  },
  {
   "cell_type": "markdown",
   "id": "83210069-efbb-4ce1-a15b-4607a9855dd7",
   "metadata": {},
   "source": [
    "**Performs the \"clustering\" of data into groups by virtue of similarities between them**\n",
    "\n",
    "**The goal of K-means is to partition data into K clusters, where each data point belongs to the cluster with the nearest mean**\n",
    "\n",
    "**1. Initialization: Choose K initial centroids randomly from the data points.**\n",
    "\n",
    "**2. Assignment: Assign each data point to the nearest centroid. This is usually done by calculating the Euclidean distance between each data point and identifying the closest point.**\n",
    "\n",
    "**3. Update centroids: Once all data points are assigned to clusters, compute the new centroids of the clusters by taking the mean of all data points assigned to each cluster.**\n",
    "\n",
    "**4. This is repeated until convergence. Convergence occurs when the centroids no longer change significantly or when a maximum number of iterations is reached.**\n",
    "\n",
    "**5. Output: Once convergence is reached, the algorithm outputs the final clusters, with each data point belonging to the cluster of its nearest centroid.**"
   ]
  },
  {
   "cell_type": "markdown",
   "id": "bdcab428-c993-4726-b22b-e3b2d1056c92",
   "metadata": {},
   "source": [
    "**Types of Clustering:**\n",
    "** **\n",
    "\n",
    "\n",
    "**1. Hierarchial Clustering (Tree like structure):** \n",
    "\n",
    "**Agglomerative: Bottom-up approach, each element begins as seperate cluster and then merges based on similarity.**\n",
    "\n",
    "**Divisive: Top-down approach, begins with whole set and then break down into seperate clusters.**\n",
    "\n",
    "\n",
    "**2. Partitional Clustering:**\n",
    "\n",
    "**K-Means: Data is divided into 'K' number of clusters.**\n",
    "\n",
    "**Fuzzy C-Means: Again divided into 'C' number of clusters but the datapoints can exist in multiple clusters at the same time.**"
   ]
  },
  {
   "cell_type": "markdown",
   "id": "12fec4e2-a539-40e6-8eb8-e19187f68aea",
   "metadata": {},
   "source": [
    "** **"
   ]
  },
  {
   "cell_type": "markdown",
   "id": "34417acd-c7c7-45d0-8a39-c30c998755d3",
   "metadata": {},
   "source": [
    "**ELBOW METHOD TO DETERMINE 'K' VALUE**"
   ]
  },
  {
   "cell_type": "markdown",
   "id": "b698865f-520b-4ae0-93db-c6d0ac4e1753",
   "metadata": {},
   "source": [
    "**Plots the number of clusters against the within-cluster sum of squares (WCSS) which forms an elbow-like bend at the optimal number of clusters.**"
   ]
  },
  {
   "cell_type": "markdown",
   "id": "6d59646d-9cee-4e7d-934d-191f296da664",
   "metadata": {},
   "source": [
    "**1. Start by running the K-means algorithm for a range of values of K, typically from 1 to some maximum value**\n",
    "\n",
    "**2. Compute the within-cluster sum of squares (WCSS): For each value of K, calculate the sum of squared distances between each data point and its centroid within the cluster. This measure is also known as inertia. Smaller WCSS indicates tighter clusters.**\n",
    "\n",
    "**3. Plot the number of clusters against the WCSS:**\n",
    "\n",
    "**4. Identify the \"elbow\" point: Look for the point on the plot where the decrease in WCSS starts to slow down (the \"elbow\" point)**\n",
    "\n",
    "**5. The optimal number of clusters is often chosen at the \"elbow\" point in the plot.**"
   ]
  },
  {
   "cell_type": "code",
   "execution_count": 1,
   "id": "212adf8f-d646-4f14-8f7c-76052fac925d",
   "metadata": {},
   "outputs": [],
   "source": [
    "import numpy as np\n",
    "import pandas as pd\n",
    "import matplotlib.pyplot as plt\n",
    "import seaborn as sns\n",
    "%matplotlib inline"
   ]
  },
  {
   "cell_type": "code",
   "execution_count": null,
   "id": "f1e1b5bc-a93c-4298-904e-5c8e15a9af56",
   "metadata": {},
   "outputs": [],
   "source": [
    "selelrs = 'C:/datasets/Live.csv'\n",
    "df = pd.read_csv(data)"
   ]
  }
 ],
 "metadata": {
  "kernelspec": {
   "display_name": "Python 3 (ipykernel)",
   "language": "python",
   "name": "python3"
  },
  "language_info": {
   "codemirror_mode": {
    "name": "ipython",
    "version": 3
   },
   "file_extension": ".py",
   "mimetype": "text/x-python",
   "name": "python",
   "nbconvert_exporter": "python",
   "pygments_lexer": "ipython3",
   "version": "3.12.2"
  }
 },
 "nbformat": 4,
 "nbformat_minor": 5
}
