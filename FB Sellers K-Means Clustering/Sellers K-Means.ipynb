{
 "cells": [
  {
   "cell_type": "markdown",
   "id": "0ac28746-c5ae-4e1e-a9dd-f6c6c9f914e6",
   "metadata": {},
   "source": [
    "**K-MEANS CLUSTERING**\n",
    "** **"
   ]
  },
  {
   "cell_type": "markdown",
   "id": "83210069-efbb-4ce1-a15b-4607a9855dd7",
   "metadata": {},
   "source": [
    "**Performs the \"clustering\" of data into groups by virtue of similarities between them**\n",
    "\n",
    "**The goal of K-means is to partition data into K clusters, where each data point belongs to the cluster with the nearest mean**\n",
    "\n",
    "**1. Initialization: Choose K initial centroids randomly from the data points.**\n",
    "\n",
    "**2. Assignment: Assign each data point to the nearest centroid. This is usually done by calculating the Euclidean distance between each data point and identifying the closest point.**\n",
    "\n",
    "**3. Update centroids: Once all data points are assigned to clusters, compute the new centroids of the clusters by taking the mean of all data points assigned to each cluster.**\n",
    "\n",
    "**4. This is repeated until convergence. Convergence occurs when the centroids no longer change significantly or when a maximum number of iterations is reached.**\n",
    "\n",
    "**5. Output: Once convergence is reached, the algorithm outputs the final clusters, with each data point belonging to the cluster of its nearest centroid.**"
   ]
  },
  {
   "cell_type": "markdown",
   "id": "bdcab428-c993-4726-b22b-e3b2d1056c92",
   "metadata": {},
   "source": [
    "**Types of Clustering:**\n",
    "** **\n",
    "\n",
    "\n",
    "**1. Hierarchial Clustering (Tree like structure):** \n",
    "\n",
    "**Agglomerative: Bottom-up approach, each element begins as seperate cluster and then merges based on similarity.**\n",
    "\n",
    "**Divisive: Top-down approach, begins with whole set and then break down into seperate clusters.**\n",
    "\n",
    "\n",
    "**2. Partitional Clustering:**\n",
    "\n",
    "**K-Means: Data is divided into 'K' number of clusters.**\n",
    "\n",
    "**Fuzzy C-Means: Again divided into 'C' number of clusters but the datapoints can exist in multiple clusters at the same time.**"
   ]
  },
  {
   "cell_type": "markdown",
   "id": "12fec4e2-a539-40e6-8eb8-e19187f68aea",
   "metadata": {},
   "source": [
    "** **"
   ]
  },
  {
   "cell_type": "markdown",
   "id": "34417acd-c7c7-45d0-8a39-c30c998755d3",
   "metadata": {},
   "source": [
    "**ELBOW METHOD TO DETERMINE 'K' VALUE**"
   ]
  },
  {
   "cell_type": "markdown",
   "id": "b698865f-520b-4ae0-93db-c6d0ac4e1753",
   "metadata": {},
   "source": [
    "**Plots the number of clusters against the within-cluster sum of squares (WCSS) which forms an elbow-like bend at the optimal number of clusters.**"
   ]
  },
  {
   "cell_type": "markdown",
   "id": "6d59646d-9cee-4e7d-934d-191f296da664",
   "metadata": {},
   "source": [
    "**1. Start by running the K-means algorithm for a range of values of K, typically from 1 to some maximum value**\n",
    "\n",
    "**2. Compute the within-cluster sum of squares (WCSS): For each value of K, calculate the sum of squared distances between each data point and its centroid within the cluster. This measure is also known as inertia. Smaller WCSS indicates tighter clusters.**\n",
    "\n",
    "**3. Plot the number of clusters against the WCSS:**\n",
    "\n",
    "**4. Identify the \"elbow\" point: Look for the point on the plot where the decrease in WCSS starts to slow down (the \"elbow\" point)**\n",
    "\n",
    "**5. The optimal number of clusters is often chosen at the \"elbow\" point in the plot.**"
   ]
  },
  {
   "cell_type": "code",
   "execution_count": 17,
   "id": "212adf8f-d646-4f14-8f7c-76052fac925d",
   "metadata": {},
   "outputs": [],
   "source": [
    "import numpy as np\n",
    "import pandas as pd\n",
    "import matplotlib.pyplot as plt\n",
    "import seaborn as sns\n",
    "%matplotlib inline"
   ]
  },
  {
   "cell_type": "code",
   "execution_count": 21,
   "id": "f1e1b5bc-a93c-4298-904e-5c8e15a9af56",
   "metadata": {},
   "outputs": [],
   "source": [
    "sellers = pd.read_csv('D:/Code/Python Projects/ML Projects/FB Sellers K-Means Clustering/Seller Dataset.csv')"
   ]
  },
  {
   "cell_type": "code",
   "execution_count": 22,
   "id": "1bc4a5b5-9a98-4c92-a7f3-e08e1a2996b5",
   "metadata": {},
   "outputs": [
    {
     "data": {
      "text/plain": [
       "(7050, 16)"
      ]
     },
     "execution_count": 22,
     "metadata": {},
     "output_type": "execute_result"
    }
   ],
   "source": [
    "sellers.shape"
   ]
  },
  {
   "cell_type": "code",
   "execution_count": 28,
   "id": "df212f74-c26e-41bb-8889-3439a68da7c1",
   "metadata": {},
   "outputs": [
    {
     "data": {
      "text/html": [
       "<div>\n",
       "<style scoped>\n",
       "    .dataframe tbody tr th:only-of-type {\n",
       "        vertical-align: middle;\n",
       "    }\n",
       "\n",
       "    .dataframe tbody tr th {\n",
       "        vertical-align: top;\n",
       "    }\n",
       "\n",
       "    .dataframe thead th {\n",
       "        text-align: right;\n",
       "    }\n",
       "</style>\n",
       "<table border=\"1\" class=\"dataframe\">\n",
       "  <thead>\n",
       "    <tr style=\"text-align: right;\">\n",
       "      <th></th>\n",
       "      <th>status_id</th>\n",
       "      <th>status_type</th>\n",
       "      <th>status_published</th>\n",
       "      <th>num_reactions</th>\n",
       "      <th>num_comments</th>\n",
       "      <th>num_shares</th>\n",
       "      <th>num_likes</th>\n",
       "      <th>num_loves</th>\n",
       "      <th>num_wows</th>\n",
       "      <th>num_hahas</th>\n",
       "      <th>num_sads</th>\n",
       "      <th>num_angrys</th>\n",
       "      <th>Column1</th>\n",
       "      <th>Column2</th>\n",
       "      <th>Column3</th>\n",
       "      <th>Column4</th>\n",
       "    </tr>\n",
       "  </thead>\n",
       "  <tbody>\n",
       "    <tr>\n",
       "      <th>0</th>\n",
       "      <td>1</td>\n",
       "      <td>video</td>\n",
       "      <td>4/22/2018 6:00</td>\n",
       "      <td>529</td>\n",
       "      <td>512</td>\n",
       "      <td>262</td>\n",
       "      <td>432</td>\n",
       "      <td>92</td>\n",
       "      <td>3</td>\n",
       "      <td>1</td>\n",
       "      <td>1</td>\n",
       "      <td>0</td>\n",
       "      <td>NaN</td>\n",
       "      <td>NaN</td>\n",
       "      <td>NaN</td>\n",
       "      <td>NaN</td>\n",
       "    </tr>\n",
       "    <tr>\n",
       "      <th>1</th>\n",
       "      <td>2</td>\n",
       "      <td>photo</td>\n",
       "      <td>4/21/2018 22:45</td>\n",
       "      <td>150</td>\n",
       "      <td>0</td>\n",
       "      <td>0</td>\n",
       "      <td>150</td>\n",
       "      <td>0</td>\n",
       "      <td>0</td>\n",
       "      <td>0</td>\n",
       "      <td>0</td>\n",
       "      <td>0</td>\n",
       "      <td>NaN</td>\n",
       "      <td>NaN</td>\n",
       "      <td>NaN</td>\n",
       "      <td>NaN</td>\n",
       "    </tr>\n",
       "    <tr>\n",
       "      <th>2</th>\n",
       "      <td>3</td>\n",
       "      <td>video</td>\n",
       "      <td>4/21/2018 6:17</td>\n",
       "      <td>227</td>\n",
       "      <td>236</td>\n",
       "      <td>57</td>\n",
       "      <td>204</td>\n",
       "      <td>21</td>\n",
       "      <td>1</td>\n",
       "      <td>1</td>\n",
       "      <td>0</td>\n",
       "      <td>0</td>\n",
       "      <td>NaN</td>\n",
       "      <td>NaN</td>\n",
       "      <td>NaN</td>\n",
       "      <td>NaN</td>\n",
       "    </tr>\n",
       "    <tr>\n",
       "      <th>3</th>\n",
       "      <td>4</td>\n",
       "      <td>photo</td>\n",
       "      <td>4/21/2018 2:29</td>\n",
       "      <td>111</td>\n",
       "      <td>0</td>\n",
       "      <td>0</td>\n",
       "      <td>111</td>\n",
       "      <td>0</td>\n",
       "      <td>0</td>\n",
       "      <td>0</td>\n",
       "      <td>0</td>\n",
       "      <td>0</td>\n",
       "      <td>NaN</td>\n",
       "      <td>NaN</td>\n",
       "      <td>NaN</td>\n",
       "      <td>NaN</td>\n",
       "    </tr>\n",
       "    <tr>\n",
       "      <th>4</th>\n",
       "      <td>5</td>\n",
       "      <td>photo</td>\n",
       "      <td>4/18/2018 3:22</td>\n",
       "      <td>213</td>\n",
       "      <td>0</td>\n",
       "      <td>0</td>\n",
       "      <td>204</td>\n",
       "      <td>9</td>\n",
       "      <td>0</td>\n",
       "      <td>0</td>\n",
       "      <td>0</td>\n",
       "      <td>0</td>\n",
       "      <td>NaN</td>\n",
       "      <td>NaN</td>\n",
       "      <td>NaN</td>\n",
       "      <td>NaN</td>\n",
       "    </tr>\n",
       "  </tbody>\n",
       "</table>\n",
       "</div>"
      ],
      "text/plain": [
       "   status_id status_type status_published  num_reactions  num_comments  \\\n",
       "0          1       video   4/22/2018 6:00            529           512   \n",
       "1          2       photo  4/21/2018 22:45            150             0   \n",
       "2          3       video   4/21/2018 6:17            227           236   \n",
       "3          4       photo   4/21/2018 2:29            111             0   \n",
       "4          5       photo   4/18/2018 3:22            213             0   \n",
       "\n",
       "   num_shares  num_likes  num_loves  num_wows  num_hahas  num_sads  \\\n",
       "0         262        432         92         3          1         1   \n",
       "1           0        150          0         0          0         0   \n",
       "2          57        204         21         1          1         0   \n",
       "3           0        111          0         0          0         0   \n",
       "4           0        204          9         0          0         0   \n",
       "\n",
       "   num_angrys  Column1  Column2  Column3  Column4  \n",
       "0           0      NaN      NaN      NaN      NaN  \n",
       "1           0      NaN      NaN      NaN      NaN  \n",
       "2           0      NaN      NaN      NaN      NaN  \n",
       "3           0      NaN      NaN      NaN      NaN  \n",
       "4           0      NaN      NaN      NaN      NaN  "
      ]
     },
     "execution_count": 28,
     "metadata": {},
     "output_type": "execute_result"
    }
   ],
   "source": [
    "sellers.head()"
   ]
  },
  {
   "cell_type": "code",
   "execution_count": 31,
   "id": "9a6ce5cc-549a-4160-8c0a-c3655b14686a",
   "metadata": {},
   "outputs": [
    {
     "data": {
      "text/plain": [
       "Index(['status_id', 'status_type', 'status_published', 'num_reactions',\n",
       "       'num_comments', 'num_shares', 'num_likes', 'num_loves', 'num_wows',\n",
       "       'num_hahas', 'num_sads', 'num_angrys', 'Column1', 'Column2', 'Column3',\n",
       "       'Column4'],\n",
       "      dtype='object')"
      ]
     },
     "execution_count": 31,
     "metadata": {},
     "output_type": "execute_result"
    }
   ],
   "source": [
    "sellers.columns"
   ]
  },
  {
   "cell_type": "code",
   "execution_count": 27,
   "id": "fecc57bb-d30b-489d-8ce8-fa746f334605",
   "metadata": {},
   "outputs": [],
   "source": [
    "#We can see that there are 4 extra attributes in the dataset (Column 1-4). According to the dataset description, there are only supposed to be \n",
    "#supposed to be 12 columns. So drop the remaining."
   ]
  },
  {
   "cell_type": "code",
   "execution_count": 32,
   "id": "35defe91-f939-4436-a78c-b6dc0532d27e",
   "metadata": {},
   "outputs": [],
   "source": [
    "sellers.drop(['Column1', 'Column2', 'Column3', 'Column4'], axis=1, inplace=True)"
   ]
  },
  {
   "cell_type": "code",
   "execution_count": 33,
   "id": "9f808475-6368-4163-85ff-55bb72b365d0",
   "metadata": {},
   "outputs": [
    {
     "data": {
      "text/html": [
       "<div>\n",
       "<style scoped>\n",
       "    .dataframe tbody tr th:only-of-type {\n",
       "        vertical-align: middle;\n",
       "    }\n",
       "\n",
       "    .dataframe tbody tr th {\n",
       "        vertical-align: top;\n",
       "    }\n",
       "\n",
       "    .dataframe thead th {\n",
       "        text-align: right;\n",
       "    }\n",
       "</style>\n",
       "<table border=\"1\" class=\"dataframe\">\n",
       "  <thead>\n",
       "    <tr style=\"text-align: right;\">\n",
       "      <th></th>\n",
       "      <th>status_id</th>\n",
       "      <th>status_type</th>\n",
       "      <th>status_published</th>\n",
       "      <th>num_reactions</th>\n",
       "      <th>num_comments</th>\n",
       "      <th>num_shares</th>\n",
       "      <th>num_likes</th>\n",
       "      <th>num_loves</th>\n",
       "      <th>num_wows</th>\n",
       "      <th>num_hahas</th>\n",
       "      <th>num_sads</th>\n",
       "      <th>num_angrys</th>\n",
       "    </tr>\n",
       "  </thead>\n",
       "  <tbody>\n",
       "    <tr>\n",
       "      <th>0</th>\n",
       "      <td>1</td>\n",
       "      <td>video</td>\n",
       "      <td>4/22/2018 6:00</td>\n",
       "      <td>529</td>\n",
       "      <td>512</td>\n",
       "      <td>262</td>\n",
       "      <td>432</td>\n",
       "      <td>92</td>\n",
       "      <td>3</td>\n",
       "      <td>1</td>\n",
       "      <td>1</td>\n",
       "      <td>0</td>\n",
       "    </tr>\n",
       "    <tr>\n",
       "      <th>1</th>\n",
       "      <td>2</td>\n",
       "      <td>photo</td>\n",
       "      <td>4/21/2018 22:45</td>\n",
       "      <td>150</td>\n",
       "      <td>0</td>\n",
       "      <td>0</td>\n",
       "      <td>150</td>\n",
       "      <td>0</td>\n",
       "      <td>0</td>\n",
       "      <td>0</td>\n",
       "      <td>0</td>\n",
       "      <td>0</td>\n",
       "    </tr>\n",
       "    <tr>\n",
       "      <th>2</th>\n",
       "      <td>3</td>\n",
       "      <td>video</td>\n",
       "      <td>4/21/2018 6:17</td>\n",
       "      <td>227</td>\n",
       "      <td>236</td>\n",
       "      <td>57</td>\n",
       "      <td>204</td>\n",
       "      <td>21</td>\n",
       "      <td>1</td>\n",
       "      <td>1</td>\n",
       "      <td>0</td>\n",
       "      <td>0</td>\n",
       "    </tr>\n",
       "    <tr>\n",
       "      <th>3</th>\n",
       "      <td>4</td>\n",
       "      <td>photo</td>\n",
       "      <td>4/21/2018 2:29</td>\n",
       "      <td>111</td>\n",
       "      <td>0</td>\n",
       "      <td>0</td>\n",
       "      <td>111</td>\n",
       "      <td>0</td>\n",
       "      <td>0</td>\n",
       "      <td>0</td>\n",
       "      <td>0</td>\n",
       "      <td>0</td>\n",
       "    </tr>\n",
       "    <tr>\n",
       "      <th>4</th>\n",
       "      <td>5</td>\n",
       "      <td>photo</td>\n",
       "      <td>4/18/2018 3:22</td>\n",
       "      <td>213</td>\n",
       "      <td>0</td>\n",
       "      <td>0</td>\n",
       "      <td>204</td>\n",
       "      <td>9</td>\n",
       "      <td>0</td>\n",
       "      <td>0</td>\n",
       "      <td>0</td>\n",
       "      <td>0</td>\n",
       "    </tr>\n",
       "  </tbody>\n",
       "</table>\n",
       "</div>"
      ],
      "text/plain": [
       "   status_id status_type status_published  num_reactions  num_comments  \\\n",
       "0          1       video   4/22/2018 6:00            529           512   \n",
       "1          2       photo  4/21/2018 22:45            150             0   \n",
       "2          3       video   4/21/2018 6:17            227           236   \n",
       "3          4       photo   4/21/2018 2:29            111             0   \n",
       "4          5       photo   4/18/2018 3:22            213             0   \n",
       "\n",
       "   num_shares  num_likes  num_loves  num_wows  num_hahas  num_sads  num_angrys  \n",
       "0         262        432         92         3          1         1           0  \n",
       "1           0        150          0         0          0         0           0  \n",
       "2          57        204         21         1          1         0           0  \n",
       "3           0        111          0         0          0         0           0  \n",
       "4           0        204          9         0          0         0           0  "
      ]
     },
     "execution_count": 33,
     "metadata": {},
     "output_type": "execute_result"
    }
   ],
   "source": [
    "sellers.head()"
   ]
  },
  {
   "cell_type": "code",
   "execution_count": 34,
   "id": "5724022d-18e6-4bea-a1e6-0bb18431dcc8",
   "metadata": {},
   "outputs": [
    {
     "name": "stdout",
     "output_type": "stream",
     "text": [
      "<class 'pandas.core.frame.DataFrame'>\n",
      "RangeIndex: 7050 entries, 0 to 7049\n",
      "Data columns (total 16 columns):\n",
      " #   Column            Non-Null Count  Dtype  \n",
      "---  ------            --------------  -----  \n",
      " 0   status_id         7050 non-null   int64  \n",
      " 1   status_type       7050 non-null   object \n",
      " 2   status_published  7050 non-null   object \n",
      " 3   num_reactions     7050 non-null   int64  \n",
      " 4   num_comments      7050 non-null   int64  \n",
      " 5   num_shares        7050 non-null   int64  \n",
      " 6   num_likes         7050 non-null   int64  \n",
      " 7   num_loves         7050 non-null   int64  \n",
      " 8   num_wows          7050 non-null   int64  \n",
      " 9   num_hahas         7050 non-null   int64  \n",
      " 10  num_sads          7050 non-null   int64  \n",
      " 11  num_angrys        7050 non-null   int64  \n",
      " 12  Column1           0 non-null      float64\n",
      " 13  Column2           0 non-null      float64\n",
      " 14  Column3           0 non-null      float64\n",
      " 15  Column4           0 non-null      float64\n",
      "dtypes: float64(4), int64(10), object(2)\n",
      "memory usage: 881.4+ KB\n"
     ]
    }
   ],
   "source": [
    "df.info()"
   ]
  },
  {
   "cell_type": "code",
   "execution_count": 35,
   "id": "c850feee-d544-42d8-a1a1-e809a7f72e88",
   "metadata": {},
   "outputs": [
    {
     "data": {
      "text/plain": [
       "array(['video', 'photo', 'link', 'status'], dtype=object)"
      ]
     },
     "execution_count": 35,
     "metadata": {},
     "output_type": "execute_result"
    }
   ],
   "source": [
    "#We see that there are 3 non-numerical categorical features (0, 1, 2)\n",
    "sellers['status_type'].unique()"
   ]
  },
  {
   "cell_type": "code",
   "execution_count": 40,
   "id": "a425d038-81ac-46e5-9bd3-1b38ef7c17fa",
   "metadata": {},
   "outputs": [],
   "source": [
    "X = sellers\n",
    "y = sellers['status_type']"
   ]
  },
  {
   "cell_type": "code",
   "execution_count": 41,
   "id": "8e550486-850d-4ef2-82cb-1d0aa3a1ea84",
   "metadata": {},
   "outputs": [],
   "source": [
    "from sklearn.preprocessing import LabelEncoder\n",
    "encoder = LabelEncoder()\n",
    "X['status_type'] = encoder.fit_transform(X['status_type'])\n",
    "y = encoder.transform(y)"
   ]
  },
  {
   "cell_type": "code",
   "execution_count": null,
   "id": "3efef55f-3d25-45c2-bcce-1acdbae75e2e",
   "metadata": {},
   "outputs": [],
   "source": [
    "cols = X.columns"
   ]
  }
 ],
 "metadata": {
  "kernelspec": {
   "display_name": "Python 3 (ipykernel)",
   "language": "python",
   "name": "python3"
  },
  "language_info": {
   "codemirror_mode": {
    "name": "ipython",
    "version": 3
   },
   "file_extension": ".py",
   "mimetype": "text/x-python",
   "name": "python",
   "nbconvert_exporter": "python",
   "pygments_lexer": "ipython3",
   "version": "3.12.2"
  }
 },
 "nbformat": 4,
 "nbformat_minor": 5
}
